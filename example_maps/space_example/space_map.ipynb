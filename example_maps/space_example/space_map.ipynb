{
 "cells": [
  {
   "cell_type": "code",
   "execution_count": null,
   "metadata": {},
   "outputs": [],
   "source": [
    "%load_ext nb_black"
   ]
  },
  {
   "cell_type": "code",
   "execution_count": null,
   "metadata": {},
   "outputs": [],
   "source": [
    "import folium"
   ]
  },
  {
   "cell_type": "code",
   "execution_count": null,
   "metadata": {},
   "outputs": [],
   "source": [
    "m = folium.Map(\n",
    "    crs=\"Simple\",\n",
    "    location=[-60, 60],\n",
    "    zoom_start=2,\n",
    "    tiles=\"https://github.com/alvaropp/fantasy-map-example/blob/master/space_example/tiles/{z}/{y}/{x}.png?raw= true\",\n",
    "    attr=\"My Data Attribution\",\n",
    ")"
   ]
  },
  {
   "cell_type": "code",
   "execution_count": null,
   "metadata": {},
   "outputs": [],
   "source": [
    "char1_url = \"https://img.icons8.com/cotton/64/000000/space-shuttle.png\"\n",
    "char2_url = \"https://img.icons8.com/officel/80/000000/launched-rocket.png\""
   ]
  },
  {
   "cell_type": "code",
   "execution_count": null,
   "metadata": {},
   "outputs": [],
   "source": [
    "folium.map.Marker(\n",
    "    [-40, 40],\n",
    "    icon=folium.features.CustomIcon(char1_url, icon_size=(60, 60)),\n",
    "    popup=folium.map.Popup(\"Character 1\"),\n",
    "    draggable=True,\n",
    ").add_to(m)"
   ]
  },
  {
   "cell_type": "code",
   "execution_count": null,
   "metadata": {},
   "outputs": [],
   "source": [
    "folium.map.Marker(\n",
    "    [-80, 80],\n",
    "    icon=folium.features.CustomIcon(char2_url, icon_size=(60, 60)),\n",
    "    popup=folium.map.Popup(\"Character 2\"),\n",
    "    draggable=True,\n",
    ").add_to(m)"
   ]
  },
  {
   "cell_type": "code",
   "execution_count": null,
   "metadata": {},
   "outputs": [],
   "source": [
    "m"
   ]
  },
  {
   "cell_type": "code",
   "execution_count": null,
   "metadata": {},
   "outputs": [],
   "source": [
    "m.save(\"space.html\")"
   ]
  },
  {
   "cell_type": "code",
   "execution_count": null,
   "metadata": {},
   "outputs": [],
   "source": []
  }
 ],
 "metadata": {
  "kernelspec": {
   "display_name": "Python 3",
   "language": "python",
   "name": "python3"
  },
  "language_info": {
   "codemirror_mode": {
    "name": "ipython",
    "version": 3
   },
   "file_extension": ".py",
   "mimetype": "text/x-python",
   "name": "python",
   "nbconvert_exporter": "python",
   "pygments_lexer": "ipython3",
   "version": "3.7.4"
  }
 },
 "nbformat": 4,
 "nbformat_minor": 4
}
