{
 "cells": [
  {
   "cell_type": "code",
   "execution_count": null,
   "metadata": {},
   "outputs": [],
   "source": [
    "%load_ext nb_black"
   ]
  },
  {
   "cell_type": "code",
   "execution_count": null,
   "metadata": {},
   "outputs": [],
   "source": [
    "import folium"
   ]
  },
  {
   "cell_type": "code",
   "execution_count": null,
   "metadata": {},
   "outputs": [],
   "source": [
    "m = folium.Map(\n",
    "    crs=\"Simple\",\n",
    "    location=[-50, 50],\n",
    "    zoom_start=4,\n",
    "    max_zoom=4,\n",
    "    tiles=\"https://github.com/alvaropp/fantasy-map-example/blob/master/dungeon_example/tiles/{z}/{y}/{x}.png?raw= true\",\n",
    "    attr=\"\"\"Created with interactive-fantasy-map. Map created with <a href=\"https://donjon.bin.sh/fantasy/dungeon/\">donjon</a>\"\"\",\n",
    ")"
   ]
  },
  {
   "cell_type": "code",
   "execution_count": null,
   "metadata": {},
   "outputs": [],
   "source": [
    "char1_url = \"https://img.icons8.com/emoji/96/000000/mage-emoji.png\"\n",
    "char2_url = \"https://img.icons8.com/color/96/000000/orc.png\""
   ]
  },
  {
   "cell_type": "code",
   "execution_count": null,
   "metadata": {},
   "outputs": [],
   "source": [
    "folium.map.Marker(\n",
    "    [-43, 40],\n",
    "    icon=folium.features.CustomIcon(char1_url, icon_size=(60, 60)),\n",
    "    popup=folium.map.Popup(\"Character 1\"),\n",
    "    draggable=True,\n",
    ").add_to(m)"
   ]
  },
  {
   "cell_type": "code",
   "execution_count": null,
   "metadata": {},
   "outputs": [],
   "source": [
    "folium.map.Marker(\n",
    "    [-60, 70],\n",
    "    icon=folium.features.CustomIcon(char2_url, icon_size=(60, 60)),\n",
    "    popup=folium.map.Popup(\"Character 2\"),\n",
    "    draggable=True,\n",
    ").add_to(m)"
   ]
  },
  {
   "cell_type": "code",
   "execution_count": null,
   "metadata": {},
   "outputs": [],
   "source": [
    "m"
   ]
  },
  {
   "cell_type": "code",
   "execution_count": null,
   "metadata": {},
   "outputs": [],
   "source": [
    "m.save(\"dungeon.html\")"
   ]
  },
  {
   "cell_type": "code",
   "execution_count": null,
   "metadata": {},
   "outputs": [],
   "source": []
  }
 ],
 "metadata": {
  "kernelspec": {
   "display_name": "Python 3",
   "language": "python",
   "name": "python3"
  },
  "language_info": {
   "codemirror_mode": {
    "name": "ipython",
    "version": 3
   },
   "file_extension": ".py",
   "mimetype": "text/x-python",
   "name": "python",
   "nbconvert_exporter": "python",
   "pygments_lexer": "ipython3",
   "version": "3.7.4"
  }
 },
 "nbformat": 4,
 "nbformat_minor": 4
}
